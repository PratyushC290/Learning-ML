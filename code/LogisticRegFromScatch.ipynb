{
  "nbformat": 4,
  "nbformat_minor": 0,
  "metadata": {
    "colab": {
      "provenance": []
    },
    "kernelspec": {
      "name": "python3",
      "display_name": "Python 3"
    },
    "language_info": {
      "name": "python"
    }
  },
  "cells": [
    {
      "cell_type": "code",
      "execution_count": 1,
      "metadata": {
        "id": "Qj67Li6zu3wx"
      },
      "outputs": [],
      "source": [
        "import numpy as np\n",
        "import pandas as pd"
      ]
    },
    {
      "cell_type": "code",
      "source": [
        "class Logistic_Regression():\n",
        "  def __init__(self, learning_rate=0.001,iterations=10000):\n",
        "\n",
        "    self.learning_rate=learning_rate\n",
        "    self.iterations=iterations\n",
        "\n",
        "\n",
        "\n",
        "  def fit(self,X,y):\n",
        "\n",
        "    self.rows,self.columns = X.shape\n",
        "    self.w = np.zeros(self.columns)\n",
        "    self.b=0\n",
        "    self.X=X\n",
        "    self.y=y\n",
        "\n",
        "    #Gradient descent/ascent\n",
        "\n",
        "    for i in range(self.iterations):\n",
        "      y_hat = 1 / (1 + np.exp(-(self.X.dot(self.w) + self.b))) #y=1/(1+e^(-z)) where z=wX+b\n",
        "      dw=(1/self.rows)*(np.dot(self.X.T,y_hat-self.y))\n",
        "      db=(1/self.rows)*(np.sum(y_hat-self.y))\n",
        "\n",
        "      self.w-=self.learning_rate*dw\n",
        "      self.b-=self.learning_rate*db\n",
        "\n",
        "\n",
        "  def predict(self, X):\n",
        "    y_pred = 1 / (1 + np.exp(-(X.dot(self.w) + self.b)))\n",
        "    y_pred = np.where(y_pred>0.5,1,0)\n",
        "    return y_pred"
      ],
      "metadata": {
        "id": "GRVt6Md5vPXE"
      },
      "execution_count": 59,
      "outputs": []
    },
    {
      "cell_type": "code",
      "source": [
        "df = pd.read_csv('/content/Social_Network_Ads.csv')\n",
        "X=df.iloc[:,:-1].values\n",
        "y=df.iloc[:,-1].values"
      ],
      "metadata": {
        "id": "mb8iTUKPy3gt"
      },
      "execution_count": 60,
      "outputs": []
    },
    {
      "cell_type": "code",
      "source": [
        "from sklearn.model_selection import train_test_split\n",
        "X_train, X_test, y_train, y_test = train_test_split(X, y, test_size = 0.25, random_state = 0)"
      ],
      "metadata": {
        "id": "-Pzw0c5zzizj"
      },
      "execution_count": 61,
      "outputs": []
    },
    {
      "cell_type": "code",
      "source": [
        "from sklearn.preprocessing import StandardScaler\n",
        "sc = StandardScaler()\n",
        "X_train = sc.fit_transform(X_train)\n",
        "X_test = sc.transform(X_test)"
      ],
      "metadata": {
        "id": "vrh-I5lWzU97"
      },
      "execution_count": 62,
      "outputs": []
    },
    {
      "cell_type": "code",
      "source": [
        "model=Logistic_Regression()\n",
        "model.fit(X_train,y_train)\n",
        "y_pred = model.predict(X_test)"
      ],
      "metadata": {
        "id": "D1_DO7qW0g9R"
      },
      "execution_count": 63,
      "outputs": []
    },
    {
      "cell_type": "code",
      "source": [
        "from sklearn.linear_model import LogisticRegression\n",
        "model2 = LogisticRegression()\n",
        "model2.fit(X_train,y_train)\n",
        "y_pred2 = model2.predict(X_test)"
      ],
      "metadata": {
        "id": "ALU5REWn05Uf"
      },
      "execution_count": 64,
      "outputs": []
    },
    {
      "cell_type": "code",
      "source": [
        "from sklearn.metrics import confusion_matrix\n",
        "cm1=confusion_matrix(y_test,y_pred)\n",
        "cm2=confusion_matrix(y_test,y_pred2)\n",
        "print(cm1)\n",
        "print(cm2)"
      ],
      "metadata": {
        "colab": {
          "base_uri": "https://localhost:8080/"
        },
        "id": "UHSNBpOE2Ycn",
        "outputId": "e44d3c90-0ca9-4319-af09-64c65b58a53f"
      },
      "execution_count": 65,
      "outputs": [
        {
          "output_type": "stream",
          "name": "stdout",
          "text": [
            "[[66  2]\n",
            " [ 8 24]]\n",
            "[[65  3]\n",
            " [ 8 24]]\n"
          ]
        }
      ]
    }
  ]
}